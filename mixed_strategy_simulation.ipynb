{
  "nbformat": 4,
  "nbformat_minor": 0,
  "metadata": {
    "colab": {
      "provenance": []
    },
    "kernelspec": {
      "name": "python3",
      "display_name": "Python 3"
    },
    "language_info": {
      "name": "python"
    }
  },
  "cells": [
    {
      "cell_type": "code",
      "source": [
        "import numpy as np\n",
        "import matplotlib.pyplot as plt\n",
        "from scipy.optimize import minimize\n",
        "from sklearn.metrics import accuracy_score\n"
      ],
      "metadata": {
        "id": "pj2VTVtsGNrR"
      },
      "execution_count": 20,
      "outputs": []
    },
    {
      "cell_type": "markdown",
      "source": [
        "# 1. Инициализация"
      ],
      "metadata": {
        "id": "CEfn28buPEwS"
      }
    },
    {
      "cell_type": "code",
      "execution_count": 21,
      "metadata": {
        "id": "HfUIHEbOd2Jt"
      },
      "outputs": [],
      "source": [
        "np.random.seed(42)\n",
        "L = 10\n",
        "K = np.random.uniform(0.2, 0.3, L)\n",
        "G = 0.25"
      ]
    },
    {
      "cell_type": "markdown",
      "source": [
        "# 2. Формирование обучающей выборки"
      ],
      "metadata": {
        "id": "KBiW8u7dPK20"
      }
    },
    {
      "cell_type": "code",
      "source": [
        "windows = []\n",
        "targets = []\n",
        "for i in range(7):\n",
        "    window = K[i:i+3]\n",
        "    y_i = 1 if K[i+3] >= G else 0\n",
        "    windows.append(window)\n",
        "    targets.append(y_i)\n",
        "\n",
        "X = np.array(windows)\n",
        "y = np.array(targets)"
      ],
      "metadata": {
        "id": "MCYbLoDNeE7D"
      },
      "execution_count": 22,
      "outputs": []
    },
    {
      "cell_type": "markdown",
      "source": [
        "# 3. Сигмоида"
      ],
      "metadata": {
        "id": "LPcw5QCNPfZk"
      }
    },
    {
      "cell_type": "code",
      "source": [
        "def sigmoid(z):\n",
        "    return 1 / (1 + np.exp(-z))"
      ],
      "metadata": {
        "id": "bxN1g5oBPe68"
      },
      "execution_count": 23,
      "outputs": []
    },
    {
      "cell_type": "markdown",
      "source": [
        "# 4. Логарифм функции правдоподобия"
      ],
      "metadata": {
        "id": "gAvFl1HsPpgb"
      }
    },
    {
      "cell_type": "code",
      "source": [
        "def log_likelihood(G, X, y):\n",
        "    p = sigmoid(X @ G)\n",
        "    return np.sum(y * np.log(p + 1e-10) + (1 - y) * np.log(1 - p + 1e-10))"
      ],
      "metadata": {
        "id": "SBYsqX2Eelxj"
      },
      "execution_count": 24,
      "outputs": []
    },
    {
      "cell_type": "markdown",
      "source": [
        "# 5. Оптимизация по G (максимизация ℓ(G))"
      ],
      "metadata": {
        "id": "fTsU_hoLPwbN"
      }
    },
    {
      "cell_type": "code",
      "source": [
        "initial_guess = np.zeros(3)\n",
        "result = minimize(\n",
        "    fun=lambda G: -log_likelihood(G, X, y),\n",
        "    x0=initial_guess,\n",
        "    method='BFGS'\n",
        ")\n",
        "G_opt = result.x"
      ],
      "metadata": {
        "id": "Nsr5SJslJsvs"
      },
      "execution_count": 25,
      "outputs": []
    },
    {
      "cell_type": "markdown",
      "source": [
        "# 6. Прогноз вероятности инвестирования для окна K^8 = (K8, K9, K10)"
      ],
      "metadata": {
        "id": "kmwciC32P2V3"
      }
    },
    {
      "cell_type": "code",
      "source": [
        "K8 = K[-3:]\n",
        "p8 = sigmoid(G_opt @ K8)"
      ],
      "metadata": {
        "id": "qoo1z8AVJuoy"
      },
      "execution_count": 26,
      "outputs": []
    },
    {
      "cell_type": "markdown",
      "source": [
        "# 7. Сравнение стратегий"
      ],
      "metadata": {
        "id": "13KQGQMeP88h"
      }
    },
    {
      "cell_type": "code",
      "source": [
        "# Смешанная стратегия\n",
        "y_pred_logistic = (sigmoid(X @ G_opt) >= 0.5).astype(int)\n",
        "\n",
        "# Чистая стратегия — если последняя ставка в окне >= порога\n",
        "y_pred_pure = (X[:, -1] >= G).astype(int)\n",
        "\n",
        "# Оценка точности\n",
        "acc_logistic = accuracy_score(y, y_pred_logistic)\n",
        "acc_pure = accuracy_score(y, y_pred_pure)"
      ],
      "metadata": {
        "id": "ZxQ0_KDOJ2Ur"
      },
      "execution_count": 27,
      "outputs": []
    },
    {
      "cell_type": "markdown",
      "source": [
        "# 8. Вывод результатов"
      ],
      "metadata": {
        "id": "sIf160ZzQDUq"
      }
    },
    {
      "cell_type": "code",
      "source": [
        "print(\"Сгенерированные значения K:\", np.round(K, 3))\n",
        "print(\"Оптимальный вектор G:\", np.round(G_opt, 2))\n",
        "print(\"Окно K^8:\", np.round(K8, 3))\n",
        "print(\"Оцененная вероятность инвестирования p8:\", round(p8, 4))\n",
        "print(\"Точность (смешанная стратегия):\", acc_logistic)\n",
        "print(\"Точность (чистая стратегия):\", acc_pure)"
      ],
      "metadata": {
        "colab": {
          "base_uri": "https://localhost:8080/"
        },
        "id": "K3Yab8WBJzz7",
        "outputId": "9680021f-4188-4d9d-978f-8d830d463219"
      },
      "execution_count": 28,
      "outputs": [
        {
          "output_type": "stream",
          "name": "stdout",
          "text": [
            "Сгенерированные значения K: [0.237 0.295 0.273 0.26  0.216 0.216 0.206 0.287 0.26  0.271]\n",
            "Оптимальный вектор G: [-2588.3    675.54  2054.72]\n",
            "Окно K^8: [0.287 0.26  0.271]\n",
            "Оцененная вероятность инвестирования p8: 0.0001\n",
            "Точность (смешанная стратегия): 1.0\n",
            "Точность (чистая стратегия): 0.7142857142857143\n"
          ]
        }
      ]
    }
  ]
}